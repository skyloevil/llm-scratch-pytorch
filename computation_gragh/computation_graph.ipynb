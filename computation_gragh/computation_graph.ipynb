{
 "cells": [
  {
   "cell_type": "markdown",
   "id": "1c006c52",
   "metadata": {},
   "source": [
    "## Acknowledgments\n",
    "- [chunhuizhang](https://github.com/chunhuizhang)\n",
    "\n",
    "## code\n",
    "- [grad dir](https://github.com/chunhuizhang/bilibili_vlogs/tree/master/learn_torch/grad)\n",
    "- [basic](https://github.com/chunhuizhang/bilibili_vlogs/blob/master/learn_torch/grad/03_computation_graph.ipynb)\n",
    "- [forward & backward](https://github.com/chunhuizhang/bilibili_vlogs/blob/master/learn_torch/grad/04_backward_step.ipynb)\n",
    "\n",
    "## process\n",
    "- [✅] grad\n",
    "- [✅] partial derivaties\n",
    "- [✅] compute graph\n",
    "- [❌] forward & backward"
   ]
  },
  {
   "cell_type": "code",
   "execution_count": 467,
   "id": "eeff9319",
   "metadata": {},
   "outputs": [],
   "source": [
    "import torch\n",
    "import numpy as np\n",
    "from IPython.display import Image"
   ]
  },
  {
   "cell_type": "code",
   "execution_count": 468,
   "id": "ab5a665f",
   "metadata": {},
   "outputs": [],
   "source": [
    "x = torch.tensor(3., requires_grad=True)"
   ]
  },
  {
   "cell_type": "code",
   "execution_count": 469,
   "id": "61fece7e",
   "metadata": {},
   "outputs": [
    {
     "name": "stdout",
     "output_type": "stream",
     "text": [
      "tensor(3.)\n",
      "None\n",
      "True\n",
      "True\n"
     ]
    }
   ],
   "source": [
    "print(x.data)\n",
    "print(x.grad)\n",
    "print(x.is_leaf)\n",
    "print(x.requires_grad)"
   ]
  },
  {
   "cell_type": "code",
   "execution_count": 470,
   "id": "bed38bd0",
   "metadata": {},
   "outputs": [],
   "source": [
    "y = 6*x**2 + 2*x + 4"
   ]
  },
  {
   "cell_type": "code",
   "execution_count": 471,
   "id": "8542df0a",
   "metadata": {},
   "outputs": [
    {
     "name": "stdout",
     "output_type": "stream",
     "text": [
      "tensor(64.)\n",
      "None\n",
      "False\n",
      "True\n"
     ]
    },
    {
     "name": "stderr",
     "output_type": "stream",
     "text": [
      "/var/folders/0m/5js4g21n0kx9ld1w4n9bqk5m0000gn/T/ipykernel_19509/161933282.py:2: UserWarning: The .grad attribute of a Tensor that is not a leaf Tensor is being accessed. Its .grad attribute won't be populated during autograd.backward(). If you indeed want the .grad field to be populated for a non-leaf Tensor, use .retain_grad() on the non-leaf Tensor. If you access the non-leaf Tensor by mistake, make sure you access the leaf Tensor instead. See github.com/pytorch/pytorch/pull/30531 for more informations. (Triggered internally at /Users/runner/work/_temp/anaconda/conda-bld/pytorch_1716905753432/work/build/aten/src/ATen/core/TensorBody.h:494.)\n",
      "  print(y.grad)\n"
     ]
    }
   ],
   "source": [
    "print(y.data)\n",
    "print(y.grad)\n",
    "print(y.is_leaf)\n",
    "print(y.requires_grad)"
   ]
  },
  {
   "cell_type": "markdown",
   "id": "0293ec91",
   "metadata": {},
   "source": [
    "UserWarning: The .grad attribute of a Tensor that is not a leaf Tensor is being accessed. Its .grad attribute won't be populated during autograd.backward(). If you indeed want the .grad field to be populated for a non-leaf Tensor, use .retain_grad() on the non-leaf Tensor. If you access the non-leaf Tensor by mistake, make sure you access the leaf Tensor instead. See github.com/pytorch/pytorch/pull/30531 for more informations. (Triggered internally at /Users/runner/work/_temp/anaconda/conda-bld/pytorch_1716905753432/work/build/aten/src/ATen/core/TensorBody.h:494.)\n",
    "  print(y.grad)\n",
    "\n",
    "这个警告信息是 PyTorch 关于梯度计算的提示，解释如下：\n",
    "\n",
    "核心问题：你正在尝试访问一个非叶子张量(non-leaf Tensor)的 .grad 属性，但默认情况下 PyTorch 不会为非叶子张量保存梯度值。\n",
    "\n",
    "关键概念：\n",
    "\n",
    "叶子张量(leaf Tensor)：直接由用户创建的张量（如 torch.tensor() 或 nn.Parameter）\n",
    "\n",
    "非叶子张量(non-leaf Tensor)：通过运算从叶子张量计算得到的张量\n",
    "\n",
    "解决方案：\n",
    "\n",
    "如果你确实需要非叶子张量的梯度，可以在计算后立即调用 .retain_grad()\n",
    "\n",
    "如果这是误操作，你应该访问原始叶子张量的梯度"
   ]
  },
  {
   "cell_type": "code",
   "execution_count": 472,
   "id": "855ef2ac",
   "metadata": {},
   "outputs": [],
   "source": [
    "y.backward()"
   ]
  },
  {
   "cell_type": "markdown",
   "id": "7f46cc99",
   "metadata": {},
   "source": [
    "x.grad = 12 * x + 2 "
   ]
  },
  {
   "cell_type": "code",
   "execution_count": 473,
   "id": "4d3a9377",
   "metadata": {},
   "outputs": [
    {
     "name": "stdout",
     "output_type": "stream",
     "text": [
      "tensor(3.)\n",
      "tensor(38.)\n",
      "True\n",
      "True\n"
     ]
    }
   ],
   "source": [
    "print(x.data)\n",
    "print(x.grad)\n",
    "print(x.is_leaf)\n",
    "print(x.requires_grad)"
   ]
  },
  {
   "cell_type": "code",
   "execution_count": 474,
   "id": "1c463578",
   "metadata": {},
   "outputs": [
    {
     "name": "stdout",
     "output_type": "stream",
     "text": [
      "tensor(64.)\n",
      "None\n",
      "False\n",
      "True\n"
     ]
    },
    {
     "name": "stderr",
     "output_type": "stream",
     "text": [
      "/var/folders/0m/5js4g21n0kx9ld1w4n9bqk5m0000gn/T/ipykernel_19509/161933282.py:2: UserWarning: The .grad attribute of a Tensor that is not a leaf Tensor is being accessed. Its .grad attribute won't be populated during autograd.backward(). If you indeed want the .grad field to be populated for a non-leaf Tensor, use .retain_grad() on the non-leaf Tensor. If you access the non-leaf Tensor by mistake, make sure you access the leaf Tensor instead. See github.com/pytorch/pytorch/pull/30531 for more informations. (Triggered internally at /Users/runner/work/_temp/anaconda/conda-bld/pytorch_1716905753432/work/build/aten/src/ATen/core/TensorBody.h:494.)\n",
      "  print(y.grad)\n"
     ]
    }
   ],
   "source": [
    "print(y.data)\n",
    "print(y.grad)\n",
    "print(y.is_leaf)\n",
    "print(y.requires_grad)"
   ]
  },
  {
   "cell_type": "code",
   "execution_count": 475,
   "id": "e82abcae",
   "metadata": {},
   "outputs": [],
   "source": [
    "u = torch.tensor(3., requires_grad=True)\n",
    "v = torch.tensor(4., requires_grad=True)"
   ]
  },
  {
   "cell_type": "code",
   "execution_count": 476,
   "id": "dd210f11",
   "metadata": {},
   "outputs": [],
   "source": [
    "f = u**3 + v**2 + 4*u*v"
   ]
  },
  {
   "cell_type": "code",
   "execution_count": 477,
   "id": "dec53246",
   "metadata": {},
   "outputs": [],
   "source": [
    "f.backward()"
   ]
  },
  {
   "cell_type": "markdown",
   "id": "76268c45",
   "metadata": {},
   "source": [
    "- `u.grad` = 3*u**2 + 4*v = 27 + 16 = 43"
   ]
  },
  {
   "cell_type": "code",
   "execution_count": 478,
   "id": "23a33320",
   "metadata": {},
   "outputs": [
    {
     "data": {
      "text/plain": [
       "tensor(43.)"
      ]
     },
     "execution_count": 478,
     "metadata": {},
     "output_type": "execute_result"
    }
   ],
   "source": [
    "u.grad\n"
   ]
  },
  {
   "cell_type": "markdown",
   "id": "b6253eb1",
   "metadata": {},
   "source": [
    "- `v.grad` = 2 * v + 4*u =  = 8 + 12 = "
   ]
  },
  {
   "cell_type": "code",
   "execution_count": 479,
   "id": "2be92b3f",
   "metadata": {},
   "outputs": [
    {
     "data": {
      "text/plain": [
       "tensor(20.)"
      ]
     },
     "execution_count": 479,
     "metadata": {},
     "output_type": "execute_result"
    }
   ],
   "source": [
    "v.grad"
   ]
  },
  {
   "cell_type": "code",
   "execution_count": 480,
   "id": "849643fe",
   "metadata": {},
   "outputs": [],
   "source": [
    "import torch\n",
    "a = torch.randn((3,3),requires_grad=True)\n",
    "\n",
    "w1 = torch.randn((3,3),requires_grad=True)\n",
    "w2 = torch.randn((3,3),requires_grad=True)\n",
    "w3 = torch.randn((3,3),requires_grad=True)\n",
    "w4 = torch.randn((3,3),requires_grad=True)\n",
    "\n",
    "b = w1 * a\n",
    "c = w2 * a\n",
    "d = w3 * a + w4 * a\n",
    "\n",
    "L = 10 - d"
   ]
  },
  {
   "cell_type": "code",
   "execution_count": 481,
   "id": "064373ed",
   "metadata": {},
   "outputs": [
    {
     "data": {
      "image/png": "[encoded data removed]",
      "text/plain": [
       "<IPython.core.display.Image object>"
      ]
     },
     "execution_count": 481,
     "metadata": {},
     "output_type": "execute_result"
    }
   ],
   "source": [
    "Image('./imgs/comp_graph.png')"
   ]
  },
  {
   "cell_type": "code",
   "execution_count": 482,
   "id": "f99f7ba8",
   "metadata": {},
   "outputs": [
    {
     "data": {
      "text/plain": [
       "True"
      ]
     },
     "execution_count": 482,
     "metadata": {},
     "output_type": "execute_result"
    }
   ],
   "source": [
    "a.is_leaf"
   ]
  },
  {
   "cell_type": "code",
   "execution_count": 483,
   "id": "770ea8c8",
   "metadata": {},
   "outputs": [
    {
     "data": {
      "text/plain": [
       "True"
      ]
     },
     "execution_count": 483,
     "metadata": {},
     "output_type": "execute_result"
    }
   ],
   "source": [
    "w1.is_leaf"
   ]
  },
  {
   "cell_type": "code",
   "execution_count": 484,
   "id": "6155dcc1",
   "metadata": {},
   "outputs": [
    {
     "data": {
      "text/plain": [
       "True"
      ]
     },
     "execution_count": 484,
     "metadata": {},
     "output_type": "execute_result"
    }
   ],
   "source": [
    "w4.is_leaf"
   ]
  },
  {
   "cell_type": "code",
   "execution_count": 485,
   "id": "9d85853b",
   "metadata": {},
   "outputs": [
    {
     "data": {
      "text/plain": [
       "tensor([[10.6305,  9.7448,  9.9843],\n",
       "        [11.1035, 10.1987, 10.6742],\n",
       "        [ 9.9449,  9.9449,  9.3269]], grad_fn=<RsubBackward1>)"
      ]
     },
     "execution_count": 485,
     "metadata": {},
     "output_type": "execute_result"
    }
   ],
   "source": [
    "L"
   ]
  },
  {
   "cell_type": "code",
   "execution_count": 486,
   "id": "239af00f",
   "metadata": {},
   "outputs": [],
   "source": [
    "#L.backward()"
   ]
  },
  {
   "cell_type": "markdown",
   "id": "f9dd31ab",
   "metadata": {},
   "source": [
    "RuntimeError: grad can be implicitly created only for scalar outputs"
   ]
  },
  {
   "cell_type": "code",
   "execution_count": null,
   "id": "2537ff7d",
   "metadata": {},
   "outputs": [],
   "source": [
    "import torch\n",
    "\n",
    "a = torch.randn((3,3),requires_grad=True)\n",
    "\n",
    "w1 = torch.randn((3,3),requires_grad=True)\n",
    "w2 = torch.randn((3,3),requires_grad=True)\n",
    "w3 = torch.randn((3,3),requires_grad=True)\n",
    "w4 = torch.randn((3,3),requires_grad=True)\n",
    "\n",
    "b = w1 * a\n",
    "c = w2 * a\n",
    "\n",
    "d = w3 * b + w4 * c\n",
    "d.retain_grad()\n",
    "L = (10-d).sum()\n"
   ]
  },
  {
   "cell_type": "code",
   "execution_count": 488,
   "id": "04904213",
   "metadata": {},
   "outputs": [
    {
     "data": {
      "text/plain": [
       "tensor(88.3974, grad_fn=<SumBackward0>)"
      ]
     },
     "execution_count": 488,
     "metadata": {},
     "output_type": "execute_result"
    }
   ],
   "source": [
    "%timeit\n",
    "L"
   ]
  },
  {
   "cell_type": "code",
   "execution_count": null,
   "id": "c706f2e5",
   "metadata": {},
   "outputs": [],
   "source": []
  },
  {
   "cell_type": "code",
   "execution_count": null,
   "id": "e2c30131",
   "metadata": {},
   "outputs": [],
   "source": []
  },
  {
   "cell_type": "code",
   "execution_count": null,
   "id": "6e6b0160",
   "metadata": {},
   "outputs": [],
   "source": []
  }
 ],
 "metadata": {
  "kernelspec": {
   "display_name": "transformer",
   "language": "python",
   "name": "python3"
  },
  "language_info": {
   "codemirror_mode": {
    "name": "ipython",
    "version": 3
   },
   "file_extension": ".py",
   "mimetype": "text/x-python",
   "name": "python",
   "nbconvert_exporter": "python",
   "pygments_lexer": "ipython3",
   "version": "3.12.9"
  }
 },
 "nbformat": 4,
 "nbformat_minor": 5
}
